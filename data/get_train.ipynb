{
 "cells": [
  {
   "cell_type": "markdown",
   "metadata": {},
   "source": [
    "# Creare JSON dal GoldStandard"
   ]
  },
  {
   "cell_type": "code",
   "execution_count": 1,
   "metadata": {},
   "outputs": [],
   "source": [
    "import csv\n",
    "import json\n",
    "import os\n",
    "import pandas as pd\n",
    "from sklearn.model_selection import train_test_split\n",
    "\n"
   ]
  },
  {
   "cell_type": "markdown",
   "metadata": {},
   "source": [
    "# GS1_ train & test CSV split"
   ]
  },
  {
   "cell_type": "code",
   "execution_count": 36,
   "metadata": {},
   "outputs": [],
   "source": [
    "def split_dataset(input_path, output_path_train_csv, output_path_test_csv, test_size=0.2, random_state=42):\n",
    "\n",
    "    df = pd.read_csv(input_path, index_col=0)\n",
    "    train_df, test_df = train_test_split(df, test_size=test_size, random_state=random_state)\n",
    "    \n",
    "    print('Len train :' + str(len(train_df)))\n",
    "    train_df.to_csv(output_path_train_csv, index=False)\n",
    "    print('Len test :' + str(len(test_df)))\n",
    "    test_df.to_csv(output_path_test_csv, index=False)\n",
    "    \n",
    "    return train_df, test_df"
   ]
  },
  {
   "cell_type": "code",
   "execution_count": 37,
   "metadata": {},
   "outputs": [
    {
     "name": "stdout",
     "output_type": "stream",
     "text": [
      "Len train :1272\n",
      "Len test :318\n"
     ]
    },
    {
     "data": {
      "text/plain": [
       "(                      Firm     Sector  \\\n",
       " 1174  Ferrovie dello Stato  Transport   \n",
       " 701                 Maersk  Transport   \n",
       " 1479  Ferrovie dello Stato  Transport   \n",
       " 528                 Maersk  Transport   \n",
       " 987   Ferrovie dello Stato  Transport   \n",
       " ...                    ...        ...   \n",
       " 1130  Ferrovie dello Stato  Transport   \n",
       " 1294  Ferrovie dello Stato  Transport   \n",
       " 860   Ferrovie dello Stato  Transport   \n",
       " 1459  Ferrovie dello Stato  Transport   \n",
       " 1126  Ferrovie dello Stato  Transport   \n",
       " \n",
       "                                                Activity   NACE_1   NACE_2  \\\n",
       " 1174                  Infrastructure for rail transport   F42.12   F42.13   \n",
       " 701   Retrofitting of sea and coastal freight and pa...   H50.10    H50.2   \n",
       " 1479  Urban and suburban transport, road passenger t...   H49.31  H49.3.9   \n",
       " 528                  Freight transport services by road  H49.4.1   H53.10   \n",
       " 987                              Freight rail transport   H49.20   N77.39   \n",
       " ...                                                 ...      ...      ...   \n",
       " 1130  Infrastructure for personal mobility, cycle lo...   F42.11   F42.12   \n",
       " 1294                Passenger interurban rail transport   H49.10   N77.39   \n",
       " 860                              Freight rail transport   H49.20   N77.39   \n",
       " 1459  Urban and suburban transport, road passenger t...   H49.31  H49.3.9   \n",
       " 1126  Infrastructure enabling road transport and pub...   F42.11   F42.13   \n",
       " \n",
       "       NACE_3  NACE_4  NACE_5   NACE_6  \\\n",
       " 1174  M71.12  M71.20  F43.21   H52.21   \n",
       " 701   H52.22  C33.15  N77.21  N.77.34   \n",
       " 1479  N77.39  N77.11     NaN      NaN   \n",
       " 528   H53.20  N77.12     NaN      NaN   \n",
       " 987      NaN     NaN     NaN      NaN   \n",
       " ...      ...     ...     ...      ...   \n",
       " 1130  F42.13  F43.21    F711   F71.20   \n",
       " 1294     NaN     NaN     NaN      NaN   \n",
       " 860      NaN     NaN     NaN      NaN   \n",
       " 1459  N77.39  N77.11     NaN      NaN   \n",
       " 1126   F71.1  F71.20     NaN      NaN   \n",
       " \n",
       "                                            Filter words  \\\n",
       " 1174          Rail, Railroads, Railways, Infrastructure   \n",
       " 701   Retrofit, Upgrade, Sea, Coastal, Passenger, Ve...   \n",
       " 1479                   Urban, Suburban, Passenger, Road   \n",
       " 528                                Road, Road Transport   \n",
       " 987                           Rail, Railroads, Railways   \n",
       " ...                                                 ...   \n",
       " 1130  Pedestrian, Bicycle, Personal Mobility, Cycle,...   \n",
       " 1294       Passenger, Interurban, Urban, Rail, Railways   \n",
       " 860                           Rail, Railroads, Railways   \n",
       " 1459                   Urban, Suburban, Passenger, Road   \n",
       " 1126  Road, Road Transport, Street, Motorways, Bridg...   \n",
       " \n",
       "                                             Description            Climate  \\\n",
       " 1174  Construction, modernisation, operation and mai...  ClimateMitigation   \n",
       " 701   Retrofit and upgrade of vessels designed and e...  ClimateAdaptation   \n",
       " 1479  Purchase, financing, leasing, rental and opera...  ClimateAdaptation   \n",
       " 528   Purchase, financing, leasing, rental and opera...  ClimateAdaptation   \n",
       " 987   Purchase, financing, leasing, rental and opera...  ClimateAdaptation   \n",
       " ...                                                 ...                ...   \n",
       " 1130  Construction, modernisation, maintenance and o...  ClimateMitigation   \n",
       " 1294  Purchase, financing, rental, leasing and opera...  ClimateAdaptation   \n",
       " 860   Purchase, financing, leasing, rental and opera...  ClimateMitigation   \n",
       " 1459  Purchase, financing, leasing, rental and opera...  ClimateAdaptation   \n",
       " 1126  Construction, modernisation, maintenance and o...  ClimateAdaptation   \n",
       " \n",
       "                                        Type  \\\n",
       " 1174                Substantialcontribution   \n",
       " 701   DonotsignificantharmClimatemitigation   \n",
       " 1479    DonotsignificantharmCirculareconomy   \n",
       " 528                 Substantialcontribution   \n",
       " 987     DonotsignificantharmCirculareconomy   \n",
       " ...                                     ...   \n",
       " 1130                Substantialcontribution   \n",
       " 1294    DonotsignificantharmCirculareconomy   \n",
       " 860     DonotsignificantharmCirculareconomy   \n",
       " 1459    DonotsignificantharmCirculareconomy   \n",
       " 1126  DonotsignificantharmClimatemitigation   \n",
       " \n",
       "                                             KeyConcepts   ID  \\\n",
       " 1174  The infrastructure is electrified trackside in...   85   \n",
       " 701   The vessels are not dedicated to the transport...  188   \n",
       " 1479  Manage waste in the use phase-maintenance. Man...  238   \n",
       " 528   Implement physical and non-physical solutions ...   31   \n",
       " 987   Measures are in place to manage waste in accor...   22   \n",
       " ...                                                 ...  ...   \n",
       " 1130  The infrastructure that is constructed and ope...   73   \n",
       " 1294  Measures are in place to manage waste, in acco...  166   \n",
       " 860   Measures are in place to manage waste, in acco...   16   \n",
       " 1459  Manage waste in the use phase-maintenance. Man...  238   \n",
       " 1126  The infrastructure is not dedicated to transpo...   68   \n",
       " \n",
       "                                                    text  page  parse_correct  \\\n",
       " 1174  Boosting the performance of water consumption ...    17              0   \n",
       " 701        Review of climate change location: Rotterdam    33              0   \n",
       " 1479  Urban and outlying area transportation, passen...    32              0   \n",
       " 528   As a reaction to these findings, in 2022, Maer...    33              0   \n",
       " 987   Seafaring and littoral passenger waterborne tr...    32              0   \n",
       " ...                                                 ...   ...            ...   \n",
       " 1130  openly communicate the possible beneficial or ...    94              1   \n",
       " 1294  Installing, conserving, and repairing eco-frie...    32              0   \n",
       " 860   Observing and documenting long-term goals aime...    94              0   \n",
       " 1459    Action adhering to the basic social protections    32              0   \n",
       " 1126  Formulating, erecting, and conserving infrastr...    96              1   \n",
       " \n",
       "       classify_TXT_KEY  Note  \n",
       " 1174                 0  GPT4  \n",
       " 701                  0  GPT4  \n",
       " 1479                 1  GPT4  \n",
       " 528                  0   NaN  \n",
       " 987                  0  GPT4  \n",
       " ...                ...   ...  \n",
       " 1130                 1  GPT4  \n",
       " 1294                 0  GPT4  \n",
       " 860                  0  GPT4  \n",
       " 1459                 1  GPT4  \n",
       " 1126                 1  GPT4  \n",
       " \n",
       " [1272 rows x 20 columns],\n",
       "                       Firm     Sector  \\\n",
       " 1079  Ferrovie dello Stato  Transport   \n",
       " 405                 Maersk  Transport   \n",
       " 1493  Ferrovie dello Stato  Transport   \n",
       " 239                 Mundys  Transport   \n",
       " 610                 Maersk  Transport   \n",
       " ...                    ...        ...   \n",
       " 1023  Ferrovie dello Stato  Transport   \n",
       " 700                 Maersk  Transport   \n",
       " 486                 Maersk  Transport   \n",
       " 672                 Maersk  Transport   \n",
       " 1303  Ferrovie dello Stato  Transport   \n",
       " \n",
       "                                                Activity  NACE_1   NACE_2  \\\n",
       " 1079                             Freight rail transport  H49.20   N77.39   \n",
       " 405                              Freight rail transport  H49.20   N77.39   \n",
       " 1493  Urban and suburban transport, road passenger t...  H49.31  H49.3.9   \n",
       " 239                   Infrastructure for rail transport  F42.12   F42.13   \n",
       " 610                  Infrastructure for water transport  F42.91    F71.1   \n",
       " ...                                                 ...     ...      ...   \n",
       " 1023                             Freight rail transport  H49.20   N77.39   \n",
       " 700   Retrofitting of sea and coastal freight and pa...  H50.10    H50.2   \n",
       " 486                              Freight rail transport  H49.20   N77.39   \n",
       " 672   Retrofitting of sea and coastal freight and pa...  H50.10    H50.2   \n",
       " 1303                Passenger interurban rail transport  H49.10   N77.39   \n",
       " \n",
       "       NACE_3  NACE_4  NACE_5   NACE_6  \\\n",
       " 1079     NaN     NaN     NaN      NaN   \n",
       " 405      NaN     NaN     NaN      NaN   \n",
       " 1493  N77.39  N77.11     NaN      NaN   \n",
       " 239   M71.12  M71.20  F43.21   H52.21   \n",
       " 610   F71.20     NaN     NaN      NaN   \n",
       " ...      ...     ...     ...      ...   \n",
       " 1023     NaN     NaN     NaN      NaN   \n",
       " 700   H52.22  C33.15  N77.21  N.77.34   \n",
       " 486      NaN     NaN     NaN      NaN   \n",
       " 672   H52.22  C33.15  N77.21  N.77.34   \n",
       " 1303     NaN     NaN     NaN      NaN   \n",
       " \n",
       "                                            Filter words  \\\n",
       " 1079                          Rail, Railroads, Railways   \n",
       " 405                           Rail, Railroads, Railways   \n",
       " 1493                   Urban, Suburban, Passenger, Road   \n",
       " 239           Rail, Railroads, Railways, Infrastructure   \n",
       " 610        Water, Vessel, Port, Harbour, Infrastructure   \n",
       " ...                                                 ...   \n",
       " 1023                          Rail, Railroads, Railways   \n",
       " 700   Retrofit, Upgrade, Sea, Coastal, Passenger, Ve...   \n",
       " 486                           Rail, Railroads, Railways   \n",
       " 672   Retrofit, Upgrade, Sea, Coastal, Passenger, Ve...   \n",
       " 1303       Passenger, Interurban, Urban, Rail, Railways   \n",
       " \n",
       "                                             Description            Climate  \\\n",
       " 1079  Purchase, financing, leasing, rental and opera...  ClimateAdaptation   \n",
       " 405   Purchase, financing, leasing, rental and opera...  ClimateMitigation   \n",
       " 1493  Purchase, financing, leasing, rental and opera...  ClimateAdaptation   \n",
       " 239   Construction, modernisation, operation and mai...  ClimateMitigation   \n",
       " 610   Construction, modernisation and operation of w...  ClimateAdaptation   \n",
       " ...                                                 ...                ...   \n",
       " 1023  Purchase, financing, leasing, rental and opera...  ClimateAdaptation   \n",
       " 700   Retrofit and upgrade of vessels designed and e...  ClimateAdaptation   \n",
       " 486   Purchase, financing, leasing, rental and opera...  ClimateAdaptation   \n",
       " 672   Retrofit and upgrade of vessels designed and e...  ClimateAdaptation   \n",
       " 1303  Purchase, financing, rental, leasing and opera...  ClimateAdaptation   \n",
       " \n",
       "                                          Type  \\\n",
       " 1079  DonotsignificantharmPollutionprevention   \n",
       " 405       DonotsignificantharmCirculareconomy   \n",
       " 1493      DonotsignificantharmCirculareconomy   \n",
       " 239                   Substantialcontribution   \n",
       " 610                   Substantialcontribution   \n",
       " ...                                       ...   \n",
       " 1023  DonotsignificantharmPollutionprevention   \n",
       " 700     DonotsignificantharmClimatemitigation   \n",
       " 486                   Substantialcontribution   \n",
       " 672                   Substantialcontribution   \n",
       " 1303  DonotsignificantharmPollutionprevention   \n",
       " \n",
       "                                             KeyConcepts   ID  \\\n",
       " 1079  Engines for the propulsion of railway locomoti...   23   \n",
       " 405   Measures are in place to manage waste, in acco...   16   \n",
       " 1493  Manage waste in the use phase-maintenance. Man...  238   \n",
       " 239   The infrastructure is electrified trackside in...   85   \n",
       " 610   Implement physical and non-physical solutions ...  103   \n",
       " ...                                                 ...  ...   \n",
       " 1023  Engines for the propulsion of railway locomoti...   23   \n",
       " 700   The vessels are not dedicated to the transport...  188   \n",
       " 486   Implement physical and non-physical solutions ...   19   \n",
       " 672   Implement physical and non-physical solutions ...  187   \n",
       " 1303  Engines for the propulsion of railway locomoti...  167   \n",
       " \n",
       "                                                    text  page  parse_correct  \\\n",
       " 1079  Mounting, servicing, and resolving issues with...    32              0   \n",
       " 405   to facilitate our grasp of how climate change ...    33              0   \n",
       " 1493  Nautical and coastal merchandise water transpo...    32              0   \n",
       " 239   Intelligent transport system endeavors may be ...   185              0   \n",
       " 610   Following this, a climate risk examination was...    33              1   \n",
       " ...                                                 ...   ...            ...   \n",
       " 1023  Effort that negligibly affects any of the envi...    32              0   \n",
       " 700       Examination of climate change site: Rotterdam    33              0   \n",
       " 486   These solutions will be the basis for further ...    33              0   \n",
       " 672   Risk mitigation solutions were identified as a...    33              1   \n",
       " 1303  Activity that doesn't substantially damage any...    32              0   \n",
       " \n",
       "       classify_TXT_KEY         Note  \n",
       " 1079                 0         GPT4  \n",
       " 405                  0         GPT4  \n",
       " 1493                 0         GPT4  \n",
       " 239                  0         GPT4  \n",
       " 610                  1         GPT4  \n",
       " ...                ...          ...  \n",
       " 1023                 0         GPT4  \n",
       " 700                  0         GPT4  \n",
       " 486                  1          NaN  \n",
       " 672                  1  RIPETIZIONE  \n",
       " 1303                 0         GPT4  \n",
       " \n",
       " [318 rows x 20 columns])"
      ]
     },
     "execution_count": 37,
     "metadata": {},
     "output_type": "execute_result"
    }
   ],
   "source": [
    "input_path = 'GoldStandard.csv'\n",
    "output_path_train_csv = 'train/GS1_train.csv'\n",
    "output_path_test_csv = 'train/GS1_test.csv'\n",
    "split_dataset(input_path, output_path_train_csv, output_path_test_csv)"
   ]
  },
  {
   "cell_type": "markdown",
   "metadata": {},
   "source": [
    "# GS1 train & test JSON"
   ]
  },
  {
   "cell_type": "code",
   "execution_count": 38,
   "metadata": {},
   "outputs": [],
   "source": [
    "def get_json(input_path, output_path):\n",
    "    df = pd.read_csv(input_path, index_col=0)\n",
    "    df = df.loc[:, ['KeyConcepts', 'text', 'parse_correct']]\n",
    "\n",
    "    # Crea la colonna instruction, cambio i nomi delle altre due colonne\n",
    "    df['instruction'] = (\n",
    "        \"I will give you a text as 'input'. You must tell me if this text can be associated with this specific Key Concept: \" \n",
    "        + df['KeyConcepts'].astype(str) \n",
    "        + \". You have to answer me with 0 if you think that these two cannot be associated. You have to answer me with 1 if these can be associated. Use only 1 or 0, nothing else.\"\n",
    "    )\n",
    "    df = df.rename(columns={\"text\": \"input\", \"parse_correct\": \"output\"})\n",
    "    df = df.loc[:, ['input', 'output', 'instruction']]\n",
    "    df.to_csv(\"resGS.csv\", index=False)\n",
    "\n",
    "    #transofrm csv into json\n",
    "    with open('resGS.csv', newline='') as csvfile:\n",
    "        reader = csv.DictReader(csvfile)\n",
    "        data = [row for row in reader]\n",
    "\n",
    "    with open(output_path, 'w') as jsonfile:\n",
    "        json.dump(data, jsonfile)\n",
    "        \n",
    "        \n",
    "    # delete the temporary file \n",
    "    if os.path.exists(\"resGS.csv\"):\n",
    "        os.remove(\"resGS.csv\")\n",
    "    print(\"Done\")\n",
    "\n",
    "    print(\"Done\")"
   ]
  },
  {
   "cell_type": "code",
   "execution_count": 40,
   "metadata": {},
   "outputs": [
    {
     "name": "stdout",
     "output_type": "stream",
     "text": [
      "Done\n",
      "Done\n",
      "Done\n",
      "Done\n"
     ]
    }
   ],
   "source": [
    "input_path_train_csv = 'train/GS1_train_csv.csv'\n",
    "input_path_test_csv = 'train/GS1_test_csv.csv'\n",
    "\n",
    "output_path_train = 'train/GS1_train.json'\n",
    "output_path_test = 'train/GS1_test.json'\n",
    "\n",
    "get_json(input_path_train_csv, output_path_train)\n",
    "get_json(input_path_test_csv, output_path_test)"
   ]
  },
  {
   "cell_type": "markdown",
   "metadata": {},
   "source": [
    "### GS1_test - Manual and Rephrase"
   ]
  },
  {
   "cell_type": "code",
   "execution_count": 41,
   "metadata": {},
   "outputs": [],
   "source": [
    "def divide_json(input_path, manual_path, rephrase_path):\n",
    "    df = pd.read_csv(input_path, index_col=0)\n",
    "    \n",
    "    df['Note'] = df['Note'].fillna('')\n",
    "\n",
    "    manual_df = df[~df['Note'].str.contains('GPT4')]\n",
    "    rephrase_df = df[df['Note'].str.contains('GPT4')]\n",
    "\n",
    "    #controllata lunghezza e funziona\n",
    "    \n",
    "    manual_df.to_csv(\"manual.csv\", index=False)\n",
    "    rephrase_df.to_csv(\"rephrase.csv\", index=False)\n",
    "    \n",
    "    get_json(\"manual.csv\" , manual_path)\n",
    "    if os.path.exists(\"manual.csv\"):\n",
    "        os.remove(\"manual.csv\")\n",
    "        \n",
    "    get_json(\"rephrase.csv\" , rephrase_path)\n",
    "    if os.path.exists(\"rephrase.csv\"):\n",
    "        os.remove(\"rephrase.csv\")\n",
    "    \n",
    "    print(\"DIVIDED\")"
   ]
  },
  {
   "cell_type": "code",
   "execution_count": 42,
   "metadata": {},
   "outputs": [
    {
     "name": "stdout",
     "output_type": "stream",
     "text": [
      "Done\n",
      "Done\n",
      "Done\n",
      "Done\n",
      "DIVIDED\n"
     ]
    }
   ],
   "source": [
    "input_path = \"train/GS1_test_csv.csv\"\n",
    "manual_path = \"train/GS1_test_manual.json\"\n",
    "rephrase_path = \"train/GS1_test_rephrase.json\"\n",
    "divide_json(input_path, manual_path, rephrase_path)"
   ]
  },
  {
   "cell_type": "markdown",
   "metadata": {},
   "source": [
    "# GS1 & esggBert"
   ]
  },
  {
   "cell_type": "code",
   "execution_count": 59,
   "metadata": {},
   "outputs": [],
   "source": [
    "input_path = \"train/GS1_train_csv.csv\"\n",
    "esg_input_path = \"./esgBERT.csv\"\n",
    "output_path = \"train/esgBERT_GS1_train.json\""
   ]
  },
  {
   "cell_type": "code",
   "execution_count": 61,
   "metadata": {},
   "outputs": [],
   "source": [
    "def get_json_esg(input_path, esg_input_path, output_path):\n",
    "    df = pd.read_csv(input_path, index_col=None) #1200 righe\n",
    "    esg = pd.read_csv(esg_input_path, index_col=None) #4k righe \n",
    "    df = df.loc[:,['KeyConcepts', 'text', 'parse_correct']]\n",
    "\n",
    "    # creao la colonna instruction, cambio i nomi delle altre due colonne\n",
    "    df['instruction'] = \"I will give you a text as 'input', You must say me if this text can be associated with this specific Key Concept: \" + df['KeyConcepts'].astype(str) + \" You have to answer me with 0 if you think that these two can not be associated. You have to answer me with 1 if these can be associated. Use only 1 or 0, nothing else.\" \n",
    "    df = df.rename(columns={\"text\": \"input\"})\n",
    "    df = df.rename(columns={\"parse_correct\": \"output\"})\n",
    "\n",
    "    df = df.loc[:,['input', 'output', 'instruction']]\n",
    "\n",
    "    df_concatenato = pd.concat([df, esg])\n",
    "\n",
    "    df_concatenato_shuffled = df_concatenato.sample(frac=1).reset_index(drop=True)  \n",
    "\n",
    "    df_concatenato_shuffled.to_csv(\"resGS.csv\", index=False)\n",
    "    \n",
    "    #transofrm csv into json\n",
    "    with open('resGS.csv', newline='') as csvfile:\n",
    "        reader = csv.DictReader(csvfile)\n",
    "        data = [row for row in reader]\n",
    "\n",
    "    with open(output_path, 'w') as jsonfile:\n",
    "        json.dump(data, jsonfile)\n",
    "        \n",
    "        \n",
    "    # delete the temporary file \n",
    "    if os.path.exists(\"resGS.csv\"):\n",
    "        os.remove(\"resGS.csv\")\n",
    "    print(\"Done\")"
   ]
  },
  {
   "cell_type": "code",
   "execution_count": 62,
   "metadata": {},
   "outputs": [
    {
     "name": "stdout",
     "output_type": "stream",
     "text": [
      "Done\n"
     ]
    }
   ],
   "source": [
    "get_json_esg(input_path ,esg_input_path, output_path)"
   ]
  },
  {
   "cell_type": "markdown",
   "metadata": {},
   "source": [
    "# Prova"
   ]
  },
  {
   "cell_type": "code",
   "execution_count": 2,
   "metadata": {},
   "outputs": [],
   "source": [
    "df = pd.read_csv(\"GoldStandard.csv\", index_col=0)"
   ]
  },
  {
   "cell_type": "code",
   "execution_count": 4,
   "metadata": {},
   "outputs": [
    {
     "name": "stdout",
     "output_type": "stream",
     "text": [
      "<class 'pandas.core.frame.DataFrame'>\n",
      "Index: 1590 entries, 0 to 1589\n",
      "Data columns (total 20 columns):\n",
      " #   Column            Non-Null Count  Dtype \n",
      "---  ------            --------------  ----- \n",
      " 0   Firm              1590 non-null   object\n",
      " 1   Sector            1590 non-null   object\n",
      " 2   Activity          1590 non-null   object\n",
      " 3   NACE_1            1590 non-null   object\n",
      " 4   NACE_2            1590 non-null   object\n",
      " 5   NACE_3            1044 non-null   object\n",
      " 6   NACE_4            804 non-null    object\n",
      " 7   NACE_5            432 non-null    object\n",
      " 8   NACE_6            432 non-null    object\n",
      " 9   Filter words      1590 non-null   object\n",
      " 10  Description       1590 non-null   object\n",
      " 11  Climate           1590 non-null   object\n",
      " 12  Type              1590 non-null   object\n",
      " 13  KeyConcepts       1590 non-null   object\n",
      " 14  ID                1590 non-null   int64 \n",
      " 15  text              1590 non-null   object\n",
      " 16  page              1590 non-null   int64 \n",
      " 17  parse_correct     1590 non-null   int64 \n",
      " 18  classify_TXT_KEY  1590 non-null   int64 \n",
      " 19  Note              1509 non-null   object\n",
      "dtypes: int64(4), object(16)\n",
      "memory usage: 260.9+ KB\n"
     ]
    }
   ],
   "source": [
    "df.info()"
   ]
  },
  {
   "cell_type": "code",
   "execution_count": 8,
   "metadata": {},
   "outputs": [
    {
     "name": "stdout",
     "output_type": "stream",
     "text": [
      "Occurrences per firm:\n",
      "Firm\n",
      "Ferrovie dello Stato       690\n",
      "Maersk                     492\n",
      "Mundys                     348\n",
      "Autostrade per l'Italia     60\n",
      "Name: count, dtype: int64\n",
      "\n",
      "Counts of 0s and 1s in the 'parse_correct' column:\n",
      "parse_correct\n",
      "0    1122\n",
      "1     468\n",
      "Name: count, dtype: int64\n"
     ]
    }
   ],
   "source": [
    "# Count the occurrences of each firm\n",
    "firm_counts = df['Firm'].value_counts()\n",
    "\n",
    "# Count the occurrences of 0s and 1s in the 'parse_correct' column\n",
    "parse_correct_counts = df['parse_correct'].value_counts()\n",
    "\n",
    "print(\"Occurrences per firm:\")\n",
    "print(firm_counts)\n",
    "\n",
    "print(\"\\nCounts of 0s and 1s in the 'parse_correct' column:\")\n",
    "print(parse_correct_counts)"
   ]
  }
 ],
 "metadata": {
  "kernelspec": {
   "display_name": ".venv",
   "language": "python",
   "name": "python3"
  },
  "language_info": {
   "codemirror_mode": {
    "name": "ipython",
    "version": 3
   },
   "file_extension": ".py",
   "mimetype": "text/x-python",
   "name": "python",
   "nbconvert_exporter": "python",
   "pygments_lexer": "ipython3",
   "version": "3.9.6"
  }
 },
 "nbformat": 4,
 "nbformat_minor": 2
}
